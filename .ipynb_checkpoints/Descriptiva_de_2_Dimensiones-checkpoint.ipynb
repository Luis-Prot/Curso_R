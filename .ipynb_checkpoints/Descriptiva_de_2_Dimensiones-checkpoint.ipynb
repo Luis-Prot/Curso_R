{
 "cells": [
  {
   "cell_type": "markdown",
   "metadata": {
    "slideshow": {
     "slide_type": "slide"
    }
   },
   "source": [
    "# Dia 3 - Estadística de Descriptiva de 2-Dimensiones.\n",
    "\n",
    "\n",
    "## Biol. Luis Eloy Homobono Fuentes\n",
    "[luis.homobono@ciencias.unam.mx](mailto:luis.homobono@ciencias.unam.mx),\n",
    "[Facebook](https://www.facebook.com/Luis.Eloy.Hom),\n",
    "[Twitter](https://twitter.com/evo_eloy),\n",
    "[GitHub](https://github.com/Luis-Prot)"
   ]
  },
  {
   "cell_type": "markdown",
   "metadata": {
    "slideshow": {
     "slide_type": "slide"
    }
   },
   "source": [
    "# Estadística de Descriptiva de 2-Dimensiones.\n",
    "\n",
    "En el caso particular de dos variables, al par $(X,Y)$ se le llama variable estadística bidimensional\n",
    "\n",
    "A partir de ahora, trabajaremos con un par de variables $(X,Y)$ de interés, medidas en $n$ individuos."
   ]
  },
  {
   "cell_type": "markdown",
   "metadata": {
    "slideshow": {
     "slide_type": "slide"
    }
   },
   "source": [
    "# Estructura de la información en variables bidimensionales\n",
    "\n",
    "En variables unidimensionales, los datos podían organizarse en tablas de frecuencias (bien de valores, en el caso de variables **discretas**, o bien de intervalos, en el caso de variables **continuas**)\n",
    "\n",
    "Cuando leemos un fichero de datos, como por ejemplo el del `\"Pasajeros-Titanic.xlsx\"` disponemos de una serie de variables ordenadas en columnas. \n",
    "\n",
    "A partir de una tabla de datos podemos seleccionar diferentes variables unidimensionales (**discretas, continuas o atributos (categorías)**). "
   ]
  },
  {
   "cell_type": "code",
   "execution_count": null,
   "metadata": {
    "slideshow": {
     "slide_type": "skip"
    }
   },
   "outputs": [],
   "source": [
    "library(readxl)\n",
    "Titanic <- read_excel(\"Data/Pasajeros-Titanic.xlsx\")\n",
    "datatable(Titanic, options = list(pageLength = 5, dom = 'tip')) #  "
   ]
  },
  {
   "cell_type": "markdown",
   "metadata": {
    "slideshow": {
     "slide_type": "slide"
    }
   },
   "source": [
    "# Tablas de contingencia\n",
    "\n",
    "Si se seleccionan dos variables discretas (o atributos), en ocasiones se presenta la información construyendo una tabla de doble entrada con los valores de cada variable y las frecuencias ($n_{(i,j)}$ es la frecuencia absoluta del valor ($x_i,y_j$), o número de veces que se repite dicho par de valores).\n",
    "\n",
    "<img src=\"IMG/tabla-doble.png\" width=\"300\" style=\"margin-left: auto; margin-right: auto;\">\n",
    "\n",
    "Si $X$ e $Y$ son variables numéricas, la tabla suele llamarse **tabla de correlación**.\n",
    "\n",
    "Si $X$ e $Y$  son atributos o categorías, la tabla suele llamarse **tabla de contingencia**."
   ]
  },
  {
   "cell_type": "code",
   "execution_count": null,
   "metadata": {
    "slideshow": {
     "slide_type": "skip"
    }
   },
   "outputs": [],
   "source": [
    "t1<- table(Titanic$sobrevivio, Titanic$clase)\n",
    "t2<-addmargins(t1)"
   ]
  },
  {
   "cell_type": "markdown",
   "metadata": {
    "slideshow": {
     "slide_type": "slide"
    }
   },
   "source": [
    "# Representación Gráfica\n",
    "\n",
    "Si ambas variables $X$ e $Y$ son cuantitativas discretas o atributos, se puede realizar un diagrama de barras simultaneo de ambas variables.\n",
    "\n",
    "En el caso de que las variables $X$ e $Y$ sean continuas, el gráfico más utilizado, sobre todo por su sencilla interpretación, es el diagrama de dispersión, que comentamos más adelante."
   ]
  },
  {
   "cell_type": "code",
   "execution_count": null,
   "metadata": {
    "slideshow": {
     "slide_type": "skip"
    }
   },
   "outputs": [],
   "source": [
    "barplot(t1, main = \"Supervivientes por Clase\", xlab = \"Clase\", col = c(\"red\",\"green\"), beside=T)\n",
    "legend(\"topleft\", c(\"No Sobrevivio\",\"Sobrevivio\"), fill = c(\"red\",\"green\"))"
   ]
  },
  {
   "cell_type": "markdown",
   "metadata": {
    "slideshow": {
     "slide_type": "slide"
    }
   },
   "source": [
    "# Dependencia e Independencia estadística.\n",
    "\n",
    "Entre dos variables o atributos puede ocurrir que exista _independencia_, _dependencia funcional_ _(matemática)_ o _dependencia estadística_. Por ejemplo:\n",
    "\n",
    ">    Altura y renta mensual de los trabajadores de Mercamona (independencia)\n",
    "\n",
    ">    Minutos de llamadas y factura mensual (dependencia funcional o matemática) de un número de teléfono.\n",
    "\n",
    ">    Política y Corrupción, Peso y Altura de un grupo de hombres de una misma población (dependencia estadística).\n",
    "\n",
    "Intuitivamente, dos variables (atributos) son independientes si los valores que toma una variable no están influenciados por los de la otra."
   ]
  },
  {
   "cell_type": "markdown",
   "metadata": {
    "slideshow": {
     "slide_type": "slide"
    }
   },
   "source": [
    "# Dependencia estadística entre variables\n",
    "\n",
    "Cuando consideramos dos variables $X$ e $Y$ midiendo dos características diferentes en una misma población, nos interesa estudiar si existe relación entre las mismas. \n",
    "\n",
    "Una primera forma de verlo es mediante el diagrama de dispersión o nube de puntos."
   ]
  },
  {
   "cell_type": "markdown",
   "metadata": {
    "slideshow": {
     "slide_type": "slide"
    }
   },
   "source": [
    "# Gráfico de dispersión\n",
    "\n",
    "Consiste en representar, en un plano, las coordenadas ($x_i,y_j$) correspondiente a los valores de $X$ e $Y$, respectivamente.\n",
    "\n",
    "Guardado en R hay un conjunto de datos llamado `women` que contiene la variable `height` y `weight` de 15 mujeres (intente escribirlo en su consola para echar un vistazo).\n",
    "\n",
    "**Carga los datos de Galton en la carpeta 'Data'** Este conjunto de datos (tomados en 1886 por Francis Galton) corresponde a las estaturas de 928 adultos varones (variable Y) y la estatura media del padre y la madre (variable X).\n",
    "\n",
    "**Pueden trabajar con mtcars**"
   ]
  },
  {
   "cell_type": "code",
   "execution_count": null,
   "metadata": {
    "slideshow": {
     "slide_type": "skip"
    }
   },
   "outputs": [],
   "source": [
    "women\n",
    "x<-read.csv('/home/luis/Descargas/Galton.csv',sep=\";\", col=\"blue\")\n"
   ]
  },
  {
   "cell_type": "markdown",
   "metadata": {
    "slideshow": {
     "slide_type": "slide"
    }
   },
   "source": [
    "# Visualización\n",
    "\n",
    "Para visualizar la relación entre altura y peso a través de un diagrama de dispersión, se utiliza la función R `plot()`. Donde el primer argumento de `plot()` son las coordenadas del eje $x$, y el segundo argumento son las coordenadas del eje $y$."
   ]
  },
  {
   "cell_type": "code",
   "execution_count": null,
   "metadata": {
    "slideshow": {
     "slide_type": "skip"
    }
   },
   "outputs": [],
   "source": [
    "# Plot height and weight of the \"women\" dataset. Make the title \"Heights and Weights\"\n",
    "plot(women$weight, women$height, main=\"Heights and Weights\")\n",
    "plot(Galton$parent, Galton$child, col=\"blue\")\n",
    "\n",
    "attach(mtcars)\n",
    "plot(wt, mpg, main=\"Dispersión\",   xlab=\"Peso del carro\", ylab=\"Millas por galón\", pch=19) \n",
    "abline(lm(mpg~wt), col=\"red\") # regression line (y~x)\n",
    "lines(lowess(wt,mpg), col=\"blue\") # lowess line (x,y) "
   ]
  },
  {
   "cell_type": "markdown",
   "metadata": {
    "slideshow": {
     "slide_type": "slide"
    }
   },
   "source": [
    "# Covarianza. Correlación lineal.\n",
    "\n",
    "Antes de definir el concepto matemático de correlación, necesitamos estudiar la llamada **covarianza**, o medida de variabilidad conjunta entre dos variables.\n",
    "\n",
    "La covarianza de una variable bidimensional $(X,Y)$ que toma valores $\\{(x_i,y_i)\\}n_i=1$ viene dada por la expresión\n",
    "\n",
    "$S_{XY}=\\frac{1}{n}\\cdot \\sum_{i=1}^n (x_i-\\bar{x})\\cdot (y_i-\\bar{y})$\n",
    "\n",
    "$S_{XY}$ es una medida simétrica (porque es igual a $S_{YX}$) y se puede leer como la suma de los productos de las desviaciones de X por las desviaciones de Y con respecto a sus respectivas medias. "
   ]
  },
  {
   "cell_type": "code",
   "execution_count": null,
   "metadata": {
    "slideshow": {
     "slide_type": "skip"
    }
   },
   "outputs": [],
   "source": [
    "cov(Galton$parent, Galton$child)\n",
    "cov(mtcars$wt, mtcars$mpg)"
   ]
  },
  {
   "cell_type": "markdown",
   "metadata": {
    "slideshow": {
     "slide_type": "slide"
    }
   },
   "source": [
    "# Interpretación\n",
    "\n",
    "La covarianza mide, la cantidad de relación lineal entre las variables y el sentido de esta, de la forma:\n",
    "\n",
    "- $S_{XY}>0$, relación lineal positiva (si crece una variable,la otra también)\n",
    "- $S_{XY}<0$, relación lineal negativa (si crece una variable,la otra decrece).\n",
    "- $S_{XY}=0$, no hay relación lineal entre las variables.\n",
    "\n",
    "Calcula la covarianza entre los dos conjuntos de datos anteriores, con la función `cov()`."
   ]
  },
  {
   "cell_type": "markdown",
   "metadata": {
    "slideshow": {
     "slide_type": "slide"
    }
   },
   "source": [
    "# Coeficiente de correlación lineal de Pearson\n",
    "\n",
    "El coeficiente de correlación lineal o coeficiente de correlación de Pearson viene dado por:\n",
    "\n",
    "$\\rho =r=\\frac{S_{XY}}{S_X\\cdot S_Y}$\n",
    "\n",
    "y se demuestra que:\n",
    "\n",
    "- Es una medida adimensional,\n",
    "- Siempre toma valores en el intervalo $[−1,1]$\n",
    "- Tiene el signo de $S_{XY}$.\n",
    "\n",
    "Veamos cuánto vale la correlación para cada uno de los conjuntos de datos anteriores, con la función `cor()`"
   ]
  },
  {
   "cell_type": "code",
   "execution_count": null,
   "metadata": {
    "slideshow": {
     "slide_type": "skip"
    }
   },
   "outputs": [],
   "source": [
    "cor(Galton$parent, Galton$child)\n",
    "cor(mtcars$wt, mtcars$mpg)"
   ]
  },
  {
   "cell_type": "markdown",
   "metadata": {
    "slideshow": {
     "slide_type": "slide"
    }
   },
   "source": [
    "# Interpretación\n",
    "\n",
    "- Cuando la relación lineal entre $X$ e $Y$ es exacta y directa, es decir, todos los puntos se encuentran sobre una recta con pendiente positiva, $r$ vale $1$.\n",
    "- Cuando la relación lineal es exacta e inversa, es decir, todos los puntos se encuentran sobre una recta con pendiente negativa, $r$ vale $-1$.\n",
    "- Los valores intermedios ($0<r<1$ o $−1<r<0$) darán lugar a que los puntos se aproximen más o menos a una recta que pasa por el medio de los mismos.\n",
    "- Cuando no hay relación lineal, $r$ vale $0$.Este último caso se llama incorrelación, y se dice que las variables están incorreladas."
   ]
  },
  {
   "cell_type": "markdown",
   "metadata": {
    "slideshow": {
     "slide_type": "slide"
    }
   },
   "source": [
    "# R de Pearson I\n",
    "\n",
    "R de Pearson es una medida de la fuerza con la que las variables se correlacionan entre si. Veamos el siguiente gráfico, ¿Cuál de los siguientes valores de r de Pearson son probablemente pertenecientes a la gráfica?\n",
    "\n",
    "<img src=\"IMG/r_pearson.png\" width=\"300\" style=\"margin-left: auto; margin-right: auto;\">\n"
   ]
  },
  {
   "cell_type": "markdown",
   "metadata": {
    "slideshow": {
     "slide_type": "subslide"
    }
   },
   "source": [
    "> -0.26\n",
    "\n",
    "> 0.418\n",
    "\n",
    "> 1.0\n",
    "\n",
    "> -0.77"
   ]
  },
  {
   "cell_type": "markdown",
   "metadata": {
    "slideshow": {
     "slide_type": "slide"
    }
   },
   "source": [
    "# R de Pearson II\n",
    "\n",
    "¿Cuál de los siguientes valores de r son probables para la siguiente gráfica?\n",
    "\n",
    "<img src=\"IMG/r_pearson_2.png\" width=\"300\" style=\"margin-left: auto; margin-right: auto;\">\n"
   ]
  },
  {
   "cell_type": "markdown",
   "metadata": {
    "slideshow": {
     "slide_type": "subslide"
    }
   },
   "source": [
    "\n",
    "> -0.26\n",
    "\n",
    "> 0.418\n",
    "\n",
    "> 1.0\n",
    "\n",
    "> -0.77"
   ]
  },
  {
   "cell_type": "markdown",
   "metadata": {
    "slideshow": {
     "slide_type": "slide"
    }
   },
   "source": [
    "# R de Pearson III\n",
    "\n",
    "¿Cuál de los siguientes valores de r son probables para la siguiente gráfica?\n",
    "\n",
    "<img src=\"IMG/r_pearson_3.png\" width=\"300\" style=\"margin-left: auto; margin-right: auto;\">\n"
   ]
  },
  {
   "cell_type": "markdown",
   "metadata": {
    "slideshow": {
     "slide_type": "subslide"
    }
   },
   "source": [
    "> -0.26\n",
    "\n",
    "> 0.418\n",
    "\n",
    "> 1.0\n",
    "\n",
    "> -0.77"
   ]
  },
  {
   "cell_type": "markdown",
   "metadata": {
    "slideshow": {
     "slide_type": "slide"
    }
   },
   "source": [
    "# R de Pearson IV\n",
    "\n",
    "¿Cuál de los siguientes valores de r son probables para la siguiente gráfica?\n",
    "\n",
    "<img src=\"IMG/r_pearson_4.png\" width=\"300\" style=\"margin-left: auto; margin-right: auto;\">\n"
   ]
  },
  {
   "cell_type": "markdown",
   "metadata": {
    "slideshow": {
     "slide_type": "subslide"
    }
   },
   "source": [
    "> -0.26\n",
    "\n",
    "> 0.418\n",
    "\n",
    "> 1.0\n",
    "\n",
    "> -0.77"
   ]
  },
  {
   "cell_type": "markdown",
   "metadata": {
    "slideshow": {
     "slide_type": "slide"
    }
   },
   "source": [
    "# Calculos de Correlación usando R\n",
    "\n",
    "Vamos a calcular la correlación en R utilizando la fonción `cor()`, que toma dos variables como su primer argumento.\n",
    "```r\n",
    "Var1\n",
    "\n",
    "20.47774 20.49618 19.14042 19.17094 19.67843 18.69623 18.57851 21.74491\n",
    "19.71172 18.69113 19.93055 18.77507 20.80900 19.50785 20.45269 20.99963\n",
    "20.46703 20.37605 21.70349 18.96454 21.32812 19.40571 21.61128 18.88733\n",
    "18.53982 20.73216 18.38966 20.33207 20.76086 18.14633\n",
    "\n",
    "Var2\n",
    "\n",
    "8.711482  9.652311  9.478371 11.273473 11.824521  8.488692 10.110508\n",
    "9.239204  9.330103 10.274520  8.976728  8.180602  9.332210  9.940702\n",
    "10.880166 10.268513  9.980421  9.475053  8.590669  8.166011  9.841686\n",
    "10.754427  9.087870 10.799931 11.490553  8.903598  9.465779  8.578797\n",
    "8.757262 10.231936\n",
    "```"
   ]
  },
  {
   "cell_type": "code",
   "execution_count": null,
   "metadata": {
    "slideshow": {
     "slide_type": "skip"
    }
   },
   "outputs": [],
   "source": [
    "# Calculate the correlation between var1 and var2\n",
    "cor(var1,var2)"
   ]
  },
  {
   "cell_type": "markdown",
   "metadata": {
    "slideshow": {
     "slide_type": "slide"
    }
   },
   "source": [
    "# Coeficiente de determinación\n",
    "\n",
    "Al cuadrado de $r$ se le llama coeficiente de determinación, y se le denota por $R^2$. Lógicamente, se verifica\n",
    "\n",
    "$0≤R^2≤1$\n",
    "\n",
    "- Cuánto más próximo esté $R^2$ a $1$, mayor es la relación lineal existente entre las variables.\n",
    "- Cuándo $R^2$ cea cercano a $0$, menor sera la realción lineal entre las variables. \n",
    "\n",
    "Algunas veces se multiplica esta medida por $100$, y se habla entonces de un valor de $R^2$ de, por ejemplo, el 80%, indicando la cantidad de relación lineal entre las variables.\n",
    "\n",
    "Calculemos la correlación en los dos conjuntos de datos usados anteriormente."
   ]
  },
  {
   "cell_type": "code",
   "execution_count": null,
   "metadata": {
    "slideshow": {
     "slide_type": "skip"
    }
   },
   "outputs": [],
   "source": [
    "X=seq(-1,1,length=100) # 100 puntos desde -1 a 1 \n",
    "Y=sqrt(1-X^2)  # ecuación de una circunferencia\n",
    "xy=data.frame(X,Y)\n",
    "plot(xy)\n",
    "cor(X,Y)"
   ]
  },
  {
   "cell_type": "markdown",
   "metadata": {
    "slideshow": {
     "slide_type": "slide"
    }
   },
   "source": [
    "# Correlación\n",
    "\n",
    "Se concluye este apartado indicando que la independencia implica incorrelación, pero el recíproco no siempre es cierto (recordemos que la incorrelación se refiere a ausencia de relación lineal.\n",
    "\n",
    "```\n",
    "X=seq(-1,1,length=100) # 100 puntos desde -1 a 1 \n",
    "Y=sqrt(1-X^2)  # ecuación de una circunferencia\n",
    "xy=data.frame(X,Y)\n",
    "plot(xy)\n",
    "cor(X,Y)\n",
    "```"
   ]
  },
  {
   "cell_type": "markdown",
   "metadata": {
    "slideshow": {
     "slide_type": "slide"
    }
   },
   "source": [
    "# Correlación Lineal\n",
    "\n",
    "Sí existe una relación de tipo lineal entre las variables si los puntos “forman” alguna disposición que se pueda concentrar alrededor de una línea recta.\n",
    "\n",
    "Matemáticamente, la variable Y puede expresarse en función de X como una línea recta a través de una función del tipo:\n",
    "\n",
    "$Y=a+bX$\n",
    "\n",
    "La forma de calcular los mejores valores para a y b se llama método de los mínimos cuadrados.\n",
    "\n",
    "$b = \\frac{S_{XY}} {S_X^2}$ ; $a=\\bar{y}-b\\bar{x}$\n",
    "\n",
    "En R se implementa la función `lm()`"
   ]
  },
  {
   "cell_type": "code",
   "execution_count": null,
   "metadata": {
    "slideshow": {
     "slide_type": "skip"
    }
   },
   "outputs": [],
   "source": [
    "attach(mtcars)\n",
    "plot(wt, mpg, main=\"Dispersión\",   xlab=\"Peso del carro\", ylab=\"Millas por galón\", pch=19) \n",
    "abline(lm(mpg~wt), col=\"red\") # regression line (y~x)\n",
    "lines(lowess(wt,mpg), col=\"blue\") # lowess line (x,y) "
   ]
  },
  {
   "cell_type": "markdown",
   "metadata": {
    "slideshow": {
     "slide_type": "slide"
    }
   },
   "source": [
    "<p style=\"text-align: center\"><a rel=\"license\" href=\"http://creativecommons.org/licenses/by/4.0/\"><img alt=\"Licencia Creative Commons\" style=\"border-width:0\" src=\"https://i.creativecommons.org/l/by/4.0/80x15.png\" /></a><br />Esta obra está bajo una <a rel=\"license\" href=\"http://creativecommons.org/licenses/by/4.0/\">Licencia Creative Commons Atribución 4.0 Internacional</a>.</p>\n",
    "<p style=\"text-align: center\">&copy; Biol. Luis Eloy Homobono Fuentes. 2019.</p>"
   ]
  }
 ],
 "metadata": {
  "celltoolbar": "Slideshow",
  "kernelspec": {
   "display_name": "R",
   "language": "R",
   "name": "ir"
  },
  "language_info": {
   "codemirror_mode": "r",
   "file_extension": ".r",
   "mimetype": "text/x-r-source",
   "name": "R",
   "pygments_lexer": "r",
   "version": "3.4.4"
  }
 },
 "nbformat": 4,
 "nbformat_minor": 2
}
