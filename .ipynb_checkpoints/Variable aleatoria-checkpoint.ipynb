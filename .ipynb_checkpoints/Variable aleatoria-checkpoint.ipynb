{
 "cells": [
  {
   "cell_type": "markdown",
   "metadata": {
    "slideshow": {
     "slide_type": "slide"
    }
   },
   "source": [
    "# Dia 3 - Variables aleatorias\n",
    "\n",
    "\n",
    "## Biol. Luis Eloy Homobono Fuentes\n",
    "[luis.homobono@ciencias.unam.mx](mailto:luis.homobono@ciencias.unam.mx),\n",
    "[Facebook](https://www.facebook.com/Luis.Eloy.Hom),\n",
    "[Twitter](https://twitter.com/evo_eloy),\n",
    "[GitHub](https://github.com/Luis-Prot)"
   ]
  },
  {
   "cell_type": "markdown",
   "metadata": {
    "slideshow": {
     "slide_type": "slide"
    }
   },
   "source": [
    "La muestra, habitualmente, consiste de una serie de variables (numéricas o no), que llamábamos variables estadísticas. \n",
    "\n",
    "Esta variable es el valor de una característica concreta (estatura, peso, color, etc) en cada uno de los individuos de la muestra.\n",
    "\n",
    "Centrémonos ahora en variables numéricas. Si en vez de referirnos a los valores de la variable en una muestra concreta (que es una parte de una población) nos referimos a los valores de la variable en toda la población, tendremos una variable aleatoria.\n",
    "\n",
    "Para poder extrapolar los resultados de la muestra a la población necesitaremos extender los conceptos vistos de una variable estadística a la población general.\n",
    "\n",
    "La variable en la población general se llama **variable aleatoria**."
   ]
  },
  {
   "cell_type": "markdown",
   "metadata": {
    "slideshow": {
     "slide_type": "slide"
    }
   },
   "source": [
    "<img src=\"IMG/variable-aleatoria-estadistica.png\" width=\"600\" style=\"margin-left: auto; margin-right: auto;\">"
   ]
  },
  {
   "cell_type": "markdown",
   "metadata": {
    "slideshow": {
     "slide_type": "slide"
    }
   },
   "source": [
    "El nombre de **variable aleatoria** hace referencia a que los valores de esta variable dependen del azar, mediante alguna ley concreta. \n",
    "\n",
    "> Cuando lanzamos una moneda, por ejemplo, cien veces, y anotamos 1 si sale cara y 0 si sale cruz, tenemos una variable estadística que toma los valores 0 y 1, con frecuencias de aparición de, por ejemplo, 56 y 44, respectivamente. Cuando consideramos el proceso general de lanzar una moneda, tenemos una variable aleatoria que toma los valores 0 y 1 con probabilidad 0.5, respectivamente. \n",
    "\n",
    "Al igual que sucede con las variables estadísticas, las variables aleatorias pueden ser **discretas** o **continuas**.\n",
    "\n",
    "Cuando una **variable aleatoria** toma diversos valores, la probabilidad asociada a cada uno de tales valores puede ser organizada como una **distribucion de probabilidad**.\n"
   ]
  },
  {
   "cell_type": "markdown",
   "metadata": {
    "slideshow": {
     "slide_type": "slide"
    }
   },
   "source": [
    "# Variables aleatorias discretas\n",
    "\n",
    "Una variable aleatoria discreta X está definida por los valores que toma y sus probabilidades, las cuales deberán sumar 1.\n",
    "\n",
    "| $X$ | $P(X=x_{i})$ |\n",
    "|:-----: |  :-----: |\n",
    "|$x_{1}$ | $p_{1}$ |\n",
    "|$x_{2}$ | $p_{2}$ |\n",
    "|$\\vdots$ |   $\\vdots$ |\n",
    "|$x_{n}$ | $p_{n}$ |\n",
    "\n",
    "Entonces $p_1 + ... + p_n = 1$. Esta tabla se conoce como ley de probabilidad, distribución de probabilidad, función de probabilidad."
   ]
  },
  {
   "cell_type": "markdown",
   "metadata": {
    "slideshow": {
     "slide_type": "slide"
    }
   },
   "source": [
    "# Variable aleatoria de Bernoulli\n",
    "\n",
    "| $X$ | $P(X=x_{i})$ |\n",
    "|:-----: |  :-----: |\n",
    "|$0$ | $1 - p$ |\n",
    "|$1$ | $p$ |\n",
    "\n",
    "## Uniformidad discreta\n",
    "\n",
    "| $X$ | $P(X=x_{i})$ |\n",
    "|:-----: |  :-----: |\n",
    "|$1$ | $1/N$ |\n",
    "|$2$ | $1/N$ |\n",
    "|$\\vdots$ |   $\\vdots$ |\n",
    "|$N$ | $1/N$ |"
   ]
  },
  {
   "cell_type": "markdown",
   "metadata": {
    "slideshow": {
     "slide_type": "slide"
    }
   },
   "source": [
    "\"Lanzar una moneda, probabilidad de conseguir que salga cruz\".\n",
    "\n",
    "$P(X=1) = 1/2$\n",
    "\n",
    "$P(X=0) = 1/2$\n",
    "\n",
    "Por lo tanto al probabilidad de exito (p) es 1/2 \n",
    "\n",
    "Mientras que la probabilidad de fracaso (1) es q=1-p igual a 1/2\n",
    "\n",
    "X ~ Be(0,0.5)"
   ]
  },
  {
   "cell_type": "markdown",
   "metadata": {
    "slideshow": {
     "slide_type": "slide"
    }
   },
   "source": [
    "# Uso en R\n",
    "\n",
    "```\n",
    "dbinom(x, prob, log = FALSE)\n",
    "pbinom(q, prob, lower.tail = TRUE, log.p = FALSE)\n",
    "qbinom(p, prob, lower.tail = TRUE, log.p = FALSE)\n",
    "rbinom(n, prob)\n",
    "```\n",
    "\n",
    "- **x,q** Vector de cuantiles\n",
    "- **p** Vector of probabilidades.\n",
    "- **n** Numero de observaciones \n",
    "- **prob** Probabilidad de éxito \n",
    "- **log, log.p** Usar logaritmos\n",
    "- **lower.tail** Calor lógico; si es VERDAD la probabilidad es P[X<=x] si es FALSO P[X>=x]\n",
    "\n",
    "```\n",
    "dbinom(1,size=1, prob=.5)\n",
    "```"
   ]
  },
  {
   "cell_type": "code",
   "execution_count": null,
   "metadata": {
    "slideshow": {
     "slide_type": "skip"
    }
   },
   "outputs": [],
   "source": [
    "# Tiro de un dado \n",
    "x<-c(1,2,3,4,5,6)\n",
    "prob<-c(2/12,2/12,2/12,2/12,2/12,2/12)\n",
    "prob<-c(1/12,2/12,3/12,3/12,2/12,1/12)\n",
    "# Graficos\n",
    "plot(x,prob,type=\"h\")\n",
    "barplot(prob)"
   ]
  },
  {
   "cell_type": "markdown",
   "metadata": {
    "slideshow": {
     "slide_type": "slide"
    }
   },
   "source": [
    "# Variables aleatorias continuas\n",
    "\n",
    "Una variable aleatoria continua es aquella que puede tomar cualquier valor (al menos teóricamente) entre 2 fijados.\n",
    "\n",
    "> “Tiempo observado al recorrer una cierta distancia”, “estatura”, “peso”, “nivel de colesterol en sangre”…\n",
    "\n",
    "Existen limitantes:\n",
    "- La variable no puede tomar infinitos valores. \n",
    "> A la hora de medir el peso o la estatura, por ejemplo, se trabaja con un número preciso de decimales (que puede ser grande pero nunca será infinito). \n",
    "\n",
    "Este proceso se conoce como **discretización**."
   ]
  },
  {
   "cell_type": "markdown",
   "metadata": {
    "slideshow": {
     "slide_type": "slide"
    }
   },
   "source": [
    "# Función de densidad\n",
    "\n",
    "Igual que una variable aleatoria discreta viene caracterizada por su función de probabilidad, las variables aleatorias continuas vienen caracterizadas por una función llamada **función de densidad**, que es una generalización de la función de probabilidad.\n",
    "\n",
    "Matematícamente, $f$ es una función de densidad si verifica dos propiedades:\n",
    "- $f(x)$  es mayor o igual que cero en cualquier punto x (el dibujo de la función debe estar por encima del eje horizontal).\n",
    "- $\\int_{-\\infty }^{\\infty} f(x)dx =1$ (el área bajo la curva y el eje horizontal vale uno).\n",
    "\n",
    "<img src=\"IMG/densidad.png\" width=\"400\" style=\"margin-left: auto; margin-right: auto;\">"
   ]
  },
  {
   "cell_type": "markdown",
   "metadata": {
    "slideshow": {
     "slide_type": "slide"
    }
   },
   "source": [
    "# Función de Densidad\n",
    "\n",
    "El concepto de función de densidad procede de considerar que tenemos una población con todos sus (infinitos) datos o posibles valores y dibujamos el histograma, polígono de frecuencias o estimación de la densidad.\n",
    "\n",
    "> Supongamos que nos ponemos en medio de la calle y a cada hombre mayor de 18 años le preguntamos su estatura. Hacemos esto hasta tener una muestra de 15 datos y, a continuación, clasificamos los datos en intervalos, construimos el histograma y el polígono de frecuencias.\n",
    "\n",
    "La función de densidad corresponde, desde un punto de vista teórico, al polígono de frecuencias cuando tenemos todos los datos de la población (en teoría, infinitos)."
   ]
  },
  {
   "cell_type": "markdown",
   "metadata": {
    "slideshow": {
     "slide_type": "slide"
    }
   },
   "source": [
    "\n",
    "\n",
    "En una variable aleatoria continua, las propiedades de la misma vendrán descritas por la función de densidad, indiquemos que las probabilidades se calcularán como una integral definida: \n",
    "\n",
    "$P(a < X > b)= \\int_{a}^{b} f(x)dx$\n",
    "\n",
    "Es decir, la probabilidad de que la variable aleatoria $X$ tome valores entre dos números $a$ y $b$ corresponde al área bajo la curva $f$, el eje $X$ y los puntos $a$ y $b$.\n",
    "\n",
    "<img src=\"IMG/int_density.svg\" width=\"400\" style=\"margin-left: auto; margin-right: auto;\">"
   ]
  },
  {
   "cell_type": "markdown",
   "metadata": {
    "slideshow": {
     "slide_type": "slide"
    }
   },
   "source": [
    "# Esperanza Matemática de una variable aleatoria\n",
    "\n",
    "Es la generalización de la **media aritmética**. También se llama _valor medio_, _valor esperado_ o _esperanza matemática_, y se representa por la letra griega $\\mu$.\n",
    "\n",
    "Si **X** es una **variable aleatoria discreta** (representada, de manera general, por una tabla de valores $x_{i}$ y probabilidades $p_{i}=P(X=x_{i})$:\n",
    "\n",
    "- $\\mu =E ( X ) = \\sum _{i=1}^{k}x_{i}\\cdot p_{i}$ es decir, sería la esperanza de una variable cuyos valores aparecen todos con la misma probabilidad.\n",
    "\n",
    "Si **X** es una **variable aleatoria continua**, la variable valorestoma infinitos valores. El equivalente continuo de la suma es la integral. La fórmula matemática incluye en este caso a la función de densidad:\n",
    "\n",
    "- $\\overline{x}= \\sum _{i=1}^{n}x_{i}\\cdot f_{i}$\n",
    "\n",
    "- $\\mu =E ( X) = \\int _{- \\infty}^{ \\infty} x\\cdot f(x)dx$"
   ]
  },
  {
   "cell_type": "markdown",
   "metadata": {
    "slideshow": {
     "slide_type": "slide"
    }
   },
   "source": [
    "# Varianza de una variable aleatoria\n",
    "\n",
    "Igual que en el caso de variables estadísticas, mide la dispersión de la variable, y se calcula como la media de las desviaciones (elevadas al cuadrado) de los valores a su media:\n",
    "\n",
    "Si $X$ es una variable discreta, la forma de hacer los cálculos será:\n",
    "\n",
    "- $\\sigma^{2}= \\sum _{i=1}^{k} ( x_{i}- \\mu ^{2})p_{i}$\n",
    "\n",
    "Si $X$ es una variable continua:\n",
    "\n",
    "- $\\sigma^{2} = \\int_{- \\infty}^{ \\infty} ( x - \\mu  ) ^{2} f(x ) dx$"
   ]
  },
  {
   "cell_type": "markdown",
   "metadata": {
    "slideshow": {
     "slide_type": "slide"
    }
   },
   "source": [
    "Consideremos la variable aleatoria que nos da el número que puede salir en una ruleta: \n",
    "\n",
    "<img src=\"IMG/ruleta-francesa.png\" width=\"400\" style=\"margin-left: auto; margin-right: auto;\">\n",
    "\n",
    "\n",
    "¿Cuál es la media?"
   ]
  },
  {
   "cell_type": "code",
   "execution_count": null,
   "metadata": {
    "slideshow": {
     "slide_type": "skip"
    }
   },
   "outputs": [],
   "source": [
    "# 1. Cualquier casilla es 1/37\n",
    "\n",
    "# 2. Suma de los primeros 36 numeros \n",
    "ruleta <- 0\n",
    "for(i in seq(36)){\n",
    "    ruleta = ruleta + i;\n",
    "}\n",
    "\n",
    "a <- c(1,2,3,4,5)\n",
    "for(i in a){\n",
    "    print(a[i]);\n",
    "}"
   ]
  },
  {
   "cell_type": "markdown",
   "metadata": {
    "slideshow": {
     "slide_type": "slide"
    }
   },
   "source": [
    "# Simulación de Datos\n",
    "\n",
    "Por medio de una simulación, podemos comprobar qué sucede si jugamos en la ruleta y anotamos los números durante un gran número de jugadas\n",
    "\n",
    "R utiliza la función `runif()`, para darnos una distribución uniforme, toma de parametros un muestreo, un valor minimo y uno maximo.\n",
    "\n",
    "Para hacer una prueba de algún numero que deseemos apostar utilizamos la función `ifelse()`, que toma como valor una condición de probaremos, la probabilidad en contra y el valor asignado a la probabilidad en contra."
   ]
  },
  {
   "cell_type": "code",
   "execution_count": null,
   "metadata": {
    "slideshow": {
     "slide_type": "skip"
    }
   },
   "outputs": [],
   "source": [
    "# 1000 veces\n",
    "x=runif(1000,0,36)\n",
    "x=round(x)\n",
    "premio <- ifelse(x==12,35,-1)\n",
    "mean(x)\n",
    "\n",
    "# 10000 veces\n",
    "x=runif(10000,0,36)\n",
    "x=round(x)\n",
    "premio <- ifelse(x==12,35,-1)\n",
    "mean(x)"
   ]
  },
  {
   "cell_type": "markdown",
   "metadata": {
    "slideshow": {
     "slide_type": "slide"
    }
   },
   "source": [
    "Simula los siguientes valores y describe que pasa con las frecuencias observadas para $n = 1,100,1000$.\n",
    "\n",
    "| $X$ | $P(X=x_{i})$ |\n",
    "|:-----:|:-----:|\n",
    "|$0$ | $0.20$ |\n",
    "|$1$ | $0.11$ |\n",
    "|$2$ | $0.13$ |\n",
    "|$3$ | $0.24$ |\n",
    "|$4$ | $0.27$ |\n",
    "|$5$ | $0.02$ |\n",
    "|$6$ | $0.01$ |\n",
    "|$7$ | $0.01$ |\n",
    "|$8$ | $0.00$ |\n",
    "|$9$ | $0.01$ |"
   ]
  },
  {
   "cell_type": "code",
   "execution_count": null,
   "metadata": {
    "slideshow": {
     "slide_type": "skip"
    }
   },
   "outputs": [],
   "source": [
    "x = 0:9\n",
    "probabilidades = c(0.20,0.11,0.13,0.24,0.27,0.02,0.01,0.01,0,0.01)\n",
    "sample(x,size=1,replace=TRUE,prob=probabilidades)\n",
    "\n",
    "n = 100\n",
    "(y = sample(x,size=n,replace=TRUE,prob=probabilidades))\n",
    "prop.table(table(y))\n",
    "\n",
    "\n",
    "y = sample(x,size=1000,replace=TRUE,prob=probabilidades)\n",
    "prop.table(table(y))"
   ]
  },
  {
   "cell_type": "markdown",
   "metadata": {
    "slideshow": {
     "slide_type": "slide"
    }
   },
   "source": [
    "# Ejercicio\n",
    "\n",
    "## Con el juego de moneda\n",
    "\n",
    "1. Construye un una variable X que va desde 10 al valor tope (número que elijamos). Para cada valor de X tiramos una moneda y contamos el número de caras y de cruces y los vamos anotando. Es decir, si X=12 lanzamos la moneda 12 veces. Si X=23 lanzamos la moneda 23 veces, y así sucesivamente.\n",
    "\n",
    "2. Una vez realizados los lanzamientos, en la tabla de resultados guardamos los resultados obtenidos: número de lanzamientos de la moneda, número de caras, número de cruces, diferencia entre número de caras y número de cruces y proporción entra ambos números.\n",
    "\n",
    "3. Empezamos lanzando la moneda 10 veces porque así nos “aseguramos” de que el número de cruces no sea cero (evidentemente puede ocurrir, pero sería raro), y así la proporción no nos dé infinito al dividir por cero.\n",
    "\n",
    "**NOTA:** Utiliza un ciclo `for(variable in iterador){operacion;}`"
   ]
  },
  {
   "cell_type": "code",
   "execution_count": null,
   "metadata": {
    "slideshow": {
     "slide_type": "skip"
    }
   },
   "outputs": [],
   "source": [
    "# 1 \n",
    "tope=1000\n",
    "X<-seq(from=10,  to=tope, by=1 ) # Vector con lanzamientos\n",
    "N=length(X)\n",
    "n_caras<-c(0)\n",
    "n_cruces<-c(0)\n",
    "\n",
    "A<-c(0)\n",
    "\n",
    "for (i in 1:N){\n",
    "    A=runif(X[i])\n",
    "    a=length(A[A<0.5])\n",
    "    n_caras[i]<- a\n",
    "    n_cruces[i]<- X[i]-a\n",
    "}\n",
    "\n",
    "\n",
    "dif<-n_caras-n_cruces\n",
    "prop<-n_caras/n_cruces\n",
    "resultados<-data.frame(lanzamientos=X, caras=n_caras, cruces=n_cruces, diferencia=dif, proporcion=prop)\n",
    "\n",
    "\n",
    "## Entre mayor numero de tiros tengamos mayor sera la diferencia entre caras y cruces\n",
    "plot(X, abs(dif), \n",
    "     col=\"red\",\n",
    "     type=\"l\",\n",
    "     #ylim=c(0.7,1.4),\n",
    "     xlab=\"lanzamientos\",\n",
    "     ylab=\"diferencia entre caras y cruces\")\n",
    "\n",
    "\n",
    "plot(X, prop, \n",
    "     col=\"blue\",\n",
    "     type=\"l\",\n",
    "     ylim=c(0.1,3),\n",
    "     xlab=\"lanzamientos\",\n",
    "     ylab=\"proporcion caras/cruces\")"
   ]
  },
  {
   "cell_type": "markdown",
   "metadata": {
    "slideshow": {
     "slide_type": "slide"
    }
   },
   "source": [
    "# Mediana y Cuantiles (o percentiles)\n",
    "\n",
    "La definición y significado de estos conceptos son el mismo que el que se usó en el tema de variables estadísticas.\n",
    "\n",
    "Así, por ejemplo, la mediana es el valor que deja a un lado y a otro el $50%$ de los valores, o de la frecuencia (en este caso de la probabilidad): $P(X<Me)=0.5$\n",
    "\n",
    "Dado un valor $0<p<1$, el cuantil o percentíl $p$ es el valor $x_{p}$ que deja a su izquierda una probabilidad $p$. $P(X<x_{p})=p$\n",
    "\n",
    "<img src=\"IMG/quantilp.png\" width=\"400\" style=\"margin-left: auto; margin-right: auto;\">"
   ]
  },
  {
   "cell_type": "markdown",
   "metadata": {
    "slideshow": {
     "slide_type": "slide"
    }
   },
   "source": [
    "# Variables discretas notables"
   ]
  },
  {
   "cell_type": "markdown",
   "metadata": {
    "slideshow": {
     "slide_type": "skip"
    }
   },
   "source": [
    "# La variable de Bernoulli\n",
    "\n",
    "Supongamos un experimento aleatorio con sólo dos posibles resultados: un suceso $A$ que llamaremos éxito y un suceso $\\overline{A}$ que llamaremos fracaso. Supondremos que las probabilidades de ocurrencia son $p=P(A)$ y $q=1−p=P(\\overline{A})$.\n",
    "\n",
    "A la variable aleatoria que toma los valores 1 (si ocurre el suceso éxito) y 0 (si ocurre el suceso fracaso) se le llama variable aleatoria de Bernoulli de parámetro p.\n",
    "\n",
    "Se escribe $X\\in Bernoulli(p)$.\n",
    "\n",
    "> Lanzar una moneda y anotar 1 si sale cara y 0 si sale cruz.\n",
    "\n",
    "> Observar un paciente para ver si tiene una enfermedad concreta cuya probabilidad es $p$."
   ]
  },
  {
   "cell_type": "markdown",
   "metadata": {
    "slideshow": {
     "slide_type": "slide"
    }
   },
   "source": [
    "# Variable Binomial\n",
    "\n",
    "Supongamos que se realizan $n$ experimentos de Bernouilli de manera sucesiva, siendo cada experimento o prueba independiente del anterior.\n",
    "\n",
    "La Variable $X=$ número de veces que ocurre el suceso $A$ en las $n$ pruebas o número de éxitos en las $n$ pruebas, recibe el nombre de **variable binomial** de parámetros $n$ y $p$ \n",
    "\n",
    "$p=P(A)=p(éxito)$ \n",
    "\n",
    "$X\\in B(n,p)$\n",
    "\n",
    "La variable $X$ puede tomar los valores $0,1,2,...n$, siendo la probabilidad con que los toma: \n",
    "\n",
    "$P(X=k)=\\binom{n}{k}p^{k}q^{n-k}$, donde; $\\binom{n}{k}=\\frac{n!}{k!(n-k)!}$\n"
   ]
  },
  {
   "cell_type": "markdown",
   "metadata": {
    "slideshow": {
     "slide_type": "slide"
    }
   },
   "source": [
    "# Función de probabilidad\n",
    "\n",
    "Supongamos que queremos calcular la probabilidad de obtener $23$ éxitos cuando realizamos 30 pruebas donde la probabilidad de éxito es $0.6$, es decir, pretendemos calcular para $X ∼ Bi ( 30, 0,6 )$ la función de probabilidad en $x = 23$ dada por:\n",
    "\n",
    "$P(X=x)=\\binom{30}{23}0.6^{30}(1-0.6)^{30-23}$\n",
    "\n",
    "La función `dbinom()` nos permite calcular la **función de probabilidad** de una variable binomial. \n",
    "```r\n",
    "dbinom(23,size=30,prob=.6)\n",
    "```\n",
    "La función `pbinom()` nos permite calcular la **función de distribución** de una variable binomial. "
   ]
  },
  {
   "cell_type": "code",
   "execution_count": null,
   "metadata": {
    "slideshow": {
     "slide_type": "skip"
    }
   },
   "outputs": [],
   "source": [
    "dbinom(23,size=30,prob=.6)\n",
    "\n",
    "# Podemos conocer las probabilidades de cada uno de los posibles\n",
    "# resultados, es decir, la función de probabilidad P ( X = x ) , con\n",
    "dbinom(0:30,size=30,prob=.6)\n",
    "\n",
    "# También podemos obtener la función de la distribución \n",
    "# binomial en cualquier punto, es decir, la probabilidad P ( X ≤ 12 ) es\n",
    "pbinom(12,size=30,prob=.6)"
   ]
  },
  {
   "cell_type": "markdown",
   "metadata": {
    "slideshow": {
     "slide_type": "slide"
    }
   },
   "source": [
    "# Simulación de datos\n",
    "\n",
    "La función `rnorm()` nos permite simular datos de una función de distribución\n",
    "\n",
    "> Por ejemplo, ¿qué probabilidad tenemos de obtener 70 caras si lanzamos 123 veces una moneda.\n",
    "\n",
    "```\n",
    "dbinom(70,size=123,prob=0.5)\n",
    "```\n",
    "\n",
    "**Simula los datos utilizando `rnorm()`:** \n",
    "- Supongamos que queremos lanzar una moneda 30 veces con R\n",
    "- Obten el numero de exitos y no el orden en que se producen.\n",
    "- Supongamos que queremos simular 40 veces el experimento consistente en lanzar 30 veces una moneda y contamos en cada caso el número de unos.\n",
    "- Repite el procedimiento anterior pero con una moneda cargada con 0.6"
   ]
  },
  {
   "cell_type": "code",
   "execution_count": null,
   "metadata": {
    "slideshow": {
     "slide_type": "skip"
    }
   },
   "outputs": [],
   "source": [
    "dbinom(70,size=123,prob=0.5)\n",
    "\n",
    "rbinom(30,size=1,prob=.5)\n",
    "\n",
    "rbinom(1,size=30,prob=.5)\n",
    "\n",
    "rbinom(40,size=30,prob=.5)\n",
    "\n",
    "rbinom(40,size=30,prob=.6)"
   ]
  },
  {
   "cell_type": "markdown",
   "metadata": {
    "slideshow": {
     "slide_type": "slide"
    }
   },
   "source": [
    "# Distribución Normal Gaussiana\n",
    "\n",
    "Una variable aleatoria $X$ se dice que sigue una distribución normal con media $μ$ y varianza $σ^2$ y se denota con $X ∼ N(μ,σ^2)$ si su función de densidad viene dada por:\n",
    "\n",
    "$f(x)=\\dfrac{1}{\\sigma \\sqrt{2\\pi }}e^{-\\dfrac{(x-\\mu )^2}{2\\sigma ^{2}}}$\n",
    "\n",
    "De otro modo, si tomamos dos valores arbitrarios a y b con a ≤ b entonces"
   ]
  },
  {
   "cell_type": "markdown",
   "metadata": {
    "slideshow": {
     "slide_type": "slide"
    }
   },
   "source": [
    "# Estandarización o tipificación. \n",
    "\n",
    "Si tenemos una variable aleatoria con distribución normal con media $μ$ y varianza $σ^2$ entonces la variable aleatoria $Z = \\frac{σ}{X − μ}$ sigue una distribución normal con media $0$ y con varianza $1$, esto es:\n",
    "\n",
    "$Z = \\frac{σ}{X − μ} \\sim N(0,1)$\n",
    "\n",
    "Esta transformación recibe el nombre de tipificación o estandarización de la variable aleatoria X."
   ]
  },
  {
   "cell_type": "markdown",
   "metadata": {
    "slideshow": {
     "slide_type": "slide"
    }
   },
   "source": [
    "# Ejemplo\n",
    "\n",
    "Suponemos que una cierta cantidad sigue una distribución normal con unos parámetros dados. \n",
    "\n",
    "Nos planteamos cómo calcular la probabilidad de que la variable esté en un cierto intervalo.\n",
    "\n",
    "> Por ejemplo, sabemos que el valor aleatorio que observamos sigue una distribución normal con media 56 y desviación típica. ¿Qué probabilidad tenemos de que la variable aleatoria tome un valor entre 60 y 63? \n",
    "\n",
    "Nos planteamos el valor de la siguiente probabilidad: $P(60≤X≤63)$. \n",
    "\n",
    "Para calcular este área se aplicaban las siguientes igualdades donde $Z = \\frac{( X − 56 )}{3}$\n",
    "\n",
    "$Z = \\frac{( 60 − 56 )}{3} ≤ \\frac{( x − 56 )}{3} ≤ \\frac{( 53 − 56 )}{3} = P(\\frac{( 60 − 56 )}{3})- P(\\frac{( 63 − 56 )}{3})$"
   ]
  },
  {
   "cell_type": "markdown",
   "metadata": {
    "slideshow": {
     "slide_type": "slide"
    }
   },
   "source": [
    "# Normal Estandar Z\n",
    "\n",
    "Una variable aleatoria Z se dice que tiene una distribución normal estándar cuando su media es cero y su varianza es uno: $Z ∼ N ( 0, 1 )$. Su función de densidad es:\n",
    "\n",
    "$f(x)=\\dfrac{1}{\\sqrt{2\\pi }}e^{-\\dfrac{1x^2}{2}}$\n"
   ]
  },
  {
   "cell_type": "code",
   "execution_count": null,
   "metadata": {
    "slideshow": {
     "slide_type": "skip"
    }
   },
   "outputs": [],
   "source": [
    "dnorm(14,mean= 16, sd= 2)\n",
    "\n",
    "x0 = seq(10,22,1)\n",
    "dnorm(x0,mean= 16, sd= 2)"
   ]
  },
  {
   "cell_type": "markdown",
   "metadata": {
    "slideshow": {
     "slide_type": "slide"
    }
   },
   "source": [
    "# Simulación de Datos\n",
    "\n",
    "> Supondremos que es una población normal con media $μ = 160$ y una desviación estándar de $10.23$. Podría corresponder con la altura de los individuos. Suponemos que hay $N = 237456$ personas en la población en estudio. Como no vamos a medir a tantas personas ahorramos tiempo generando aleatoriamente estos valores.\n",
    "\n",
    "Es una población de $2,37456×10^5$ individuos. \n",
    "\n",
    "Por $X$ estamos denotando toda la población. Es decir, suponemos (de un modo irreal) que tenemos a toda la población. \n",
    "\n",
    "Podemos ver los $10$ primeros elementos de la población con:\n",
    "\n",
    "**Calcula la media, toma una muestra de 100 individuos, aproxima la media de tu muestra con la población tomando 100 muestras de 10 individuos y 100 muestras de 100.**"
   ]
  },
  {
   "cell_type": "code",
   "execution_count": null,
   "metadata": {
    "slideshow": {
     "slide_type": "skip"
    }
   },
   "outputs": [],
   "source": [
    "N = 237456\n",
    "X = rnorm(N,mean=160,sd=10.23)\n",
    "\n",
    "hist(X)\n",
    "plot(density(X))\n",
    "\n",
    "# Parametros de la población\n",
    "mu=mean(X)\n",
    "n = 100\n",
    "x = sample(X,n)\n",
    "\n",
    "# Estadistico muestal\n",
    "mean(x)\n",
    "\n",
    "muestras_10 <-c()\n",
    "for( i in 1:n ){\n",
    "    muestras_10[i] <- mean(sample(X,10,replace = T))\n",
    "}\n",
    "\n",
    "muestras_100 <-c()\n",
    "for( i in 1:n ){\n",
    "    muestras_100[i] <- mean(sample(X,100,replace = T))\n",
    "}\n",
    "\n",
    "plot(muestras, ylim=c(100,200))"
   ]
  },
  {
   "cell_type": "markdown",
   "metadata": {
    "slideshow": {
     "slide_type": "slide"
    }
   },
   "source": [
    "# Distribuciones de Probabilidad\n",
    "\n",
    "\n",
    "| Función       | Distribución      |   Tipo    |       media   |                   varianza                |\n",
    "|:-------------:|:-----------------:|:---------:|:-------------:|:-----------------------------------------:|\n",
    "| binom          | Binomial          | Discreta  |    µ = np     |              σ<sup>2</sup>=npq            |\n",
    "| geom          | geometrica        | Discreta  |    µ =1/p     |   σ<sup>2</sup>=(1-p)/p<sup>2</sup>       |\n",
    "| hyper         | hipergeométrica   | Discreta  |    µ = nk/N   |  σ<sup>2</sup>=(N-n)/(n-1) n k/N(1 - k/N) |\n",
    "| nbinom        | binomial negativa | Discreta  |    µ = [(r-1)(1-p)/p] si r>1, 0 si r<=1  | σ<sup>2</sup>= k(1-p)/9<sup>2</sup>|\n",
    "| pois          | Poisson           | Discreta  |    µ =  λ     |  σ<sup>2</sup> = λ   |\n",
    "| beta          | beta              | Continua  |    µ = α/(α + β) | σ<sup>2</sup>=αβ/(α + β)<sup>2</sup> /(α + β + 1)  |\n",
    "\n",
    "\n"
   ]
  },
  {
   "cell_type": "markdown",
   "metadata": {
    "slideshow": {
     "slide_type": "subslide"
    }
   },
   "source": [
    "\n",
    "| Función       | Distribución      |   Tipo    |       media   |                   varianza                |\n",
    "|:-------------:|:-----------------:|:---------:|:-------------:|:-----------------------------------------:|\n",
    "| cauchy        | Cauchy–Lorentz    | Continua  |    µ = x<sub>0</sub>| Not Defined                         |\n",
    "| exp           | exponencial       | Continua  |    µ = 1/λ    |  σ<sup>2</sup>= 1/λ<sup>2</sup>           |\n",
    "| chisq         | chi-cuadrado      | Continua  |    µ = k      | σ<sup>2</sup>=2k                          |\n",
    "| fisher        | F                 | Continua  |    µ =  d<sub>2</sub>/(d<sub>2</sub> - 2)    |  σ<sup>2</sup>= |\n",
    "| gamma         | gamma             | Continua  |    µ =p/a     | σ<sup>2</sup> =p/a<sup>2</sup>            |\n",
    "| logis         | logística         | Continua  |    µ = µ      | σ<sup>2</sup> = π<sup>2</sup>*s^2 /3      |\n",
    "| norm          | normal            | Continua  |    µ = µ      |  σ<sup>2</sup> = σ<sup>2</sup>            |\n",
    "| t             | t-Student         | Continua  |    µ = 0      | σ<sup>2</sup> = v/(v-2)                   |\n",
    "| unif          | uniforme          | Continua  |  µ = (a+b)/2  |  σ<sup>2</sup>=(b-a)<sup>2</sup>/12       |\n"
   ]
  },
  {
   "cell_type": "markdown",
   "metadata": {
    "slideshow": {
     "slide_type": "slide"
    }
   },
   "source": [
    "# Funciones en R\n",
    "\n",
    "A cada nombre de función dado por R se le agrega un prefijo `d` para obtener la función de densidad, `p` para la función de distribución acumulada, `q` para la función cuantil o percentil y `r` para generar variables pseudo-aleatorias (random). La sintaxis es la siguiente:\n",
    "```\n",
    "dxxx(x, ...)\n",
    "pxxx(q, ...)\n",
    "qxxx(p, ...)\n",
    "rxxx(n, ...)\n",
    "```\n",
    "Donde `xxx` indica el nombre de cualquiera de las distribuciones, `x` y `q` son vectores que toman valores en el soporte de la distribución, `p` es un vector de probabilidades y `n` es un valor entero."
   ]
  },
  {
   "cell_type": "markdown",
   "metadata": {
    "slideshow": {
     "slide_type": "slide"
    }
   },
   "source": [
    "<p style=\"text-align: center\"><a rel=\"license\" href=\"http://creativecommons.org/licenses/by/4.0/\"><img alt=\"Licencia Creative Commons\" style=\"border-width:0\" src=\"https://i.creativecommons.org/l/by/4.0/80x15.png\" /></a><br />Esta obra está bajo una <a rel=\"license\" href=\"http://creativecommons.org/licenses/by/4.0/\">Licencia Creative Commons Atribución 4.0 Internacional</a>.</p>\n",
    "<p style=\"text-align: center\">&copy; Biol. Luis Eloy Homobono Fuentes. 2019.</p>"
   ]
  }
 ],
 "metadata": {
  "celltoolbar": "Slideshow",
  "kernelspec": {
   "display_name": "R",
   "language": "R",
   "name": "ir"
  },
  "language_info": {
   "codemirror_mode": "r",
   "file_extension": ".r",
   "mimetype": "text/x-r-source",
   "name": "R",
   "pygments_lexer": "r",
   "version": "3.4.4"
  }
 },
 "nbformat": 4,
 "nbformat_minor": 2
}
