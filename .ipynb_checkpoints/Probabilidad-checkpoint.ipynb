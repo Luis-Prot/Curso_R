{
 "cells": [
  {
   "cell_type": "markdown",
   "metadata": {
    "slideshow": {
     "slide_type": "slide"
    }
   },
   "source": [
    "# Dia 3 - Probabilidad\n",
    "\n",
    "\n",
    "## Biol. Luis Eloy Homobono Fuentes\n",
    "[luis.homobono@ciencias.unam.mx](mailto:luis.homobono@ciencias.unam.mx),\n",
    "[Facebook](https://www.facebook.com/Luis.Eloy.Hom),\n",
    "[Twitter](https://twitter.com/evo_eloy),\n",
    "[GitHub](https://github.com/Luis-Prot)"
   ]
  },
  {
   "cell_type": "markdown",
   "metadata": {
    "slideshow": {
     "slide_type": "slide"
    }
   },
   "source": [
    "## Definiciones\n",
    "\n",
    "Para introducir detalladamente la noción de probabilidad, vamos a hablar de dos tipos de experimentos. \n",
    "\n",
    "Consideraremos que un __experimento__ es un proceso por medio del cual se obtiene una observación.\n",
    "\n",
    "- __Deterministas__. Son aquellos que siempre que se repitan bajo condiciones análogas llevan al mismo resultado, por tanto este resultado puede predecirse.\n",
    "\n",
    "- __Aleatorios__. Es el que puede dar lugar a varios resultados conocidos previamente, sin que sea posible saber de antemano cuál de ellos se va a producir.\n",
    "\n",
    "**Espacio muestral** Es el conjunto de los posibles resultados de un experimento aleatorio. Se representa con la letra griega $\\Omega$"
   ]
  },
  {
   "cell_type": "markdown",
   "metadata": {
    "slideshow": {
     "slide_type": "slide"
    }
   },
   "source": [
    "# Sucesos\n",
    "\n",
    "Se dividen en 3 tipos.\n",
    "\n",
    "- Suceso elemental. Es cada uno de los posibles resultados de un experimento aleatorio. \n",
    "\n",
    "- Suceso. Es un subconjunto del espacio muestral, $A\\subset \\Omega$ . Se dice que ocurre un suceso si ocurre alguno de los sucesos elementales que lo componen.\n",
    "\n",
    "<img src=\"IMG/conjuntos.png\" width=\"400\" style=\"margin-left: auto; margin-right: auto;\">"
   ]
  },
  {
   "cell_type": "markdown",
   "metadata": {
    "slideshow": {
     "slide_type": "slide"
    }
   },
   "source": [
    "# Unión de sucesos\n",
    "\n",
    "La Unión (de conjuntos o sucesos) $A\\cup B$ es el conjunto o suceso formado por los elementos que están en $A$ o están en $B$.\n",
    "\n",
    "<img src=\"IMG/union.png\" width=\"300\" style=\"margin-left: auto; margin-right: auto;\">"
   ]
  },
  {
   "cell_type": "markdown",
   "metadata": {
    "slideshow": {
     "slide_type": "slide"
    }
   },
   "source": [
    "# Intersección de sucesos\n",
    "$A\\cap B$ está formado por los elementos que están simultáneamente en $A$ y en $B$.\n",
    "\n",
    "<img src=\"IMG/intersection.jpg\" width=\"400\" style=\"margin-left: auto; margin-right: auto;\">"
   ]
  },
  {
   "cell_type": "markdown",
   "metadata": {
    "slideshow": {
     "slide_type": "slide"
    }
   },
   "source": [
    "# Sucesos incompatibles\n",
    "\n",
    "Dos sucesos se dicen incompatibles si no pueden ocurrir simultaneamente (al lanzar un dado no puede salir un número par e impar a la vez). \n",
    "\n",
    "Dos sucesos son incompatibles si como conjuntos son disjuntos $A\\cap B=\\varnothing$ (esta definición se extiende a más de dos sucesos o conjuntos).\n"
   ]
  },
  {
   "cell_type": "markdown",
   "metadata": {
    "slideshow": {
     "slide_type": "slide"
    }
   },
   "source": [
    "# Diferencia de sucesos\n",
    "\n",
    "$A- B$ está formado por los elementos de $A$ que no están en $B$\n",
    "\n",
    "<img src=\"IMG/dif-sucesos.png\" width=\"600\" style=\"margin-left: auto; margin-right: auto;\">\n"
   ]
  },
  {
   "cell_type": "markdown",
   "metadata": {
    "slideshow": {
     "slide_type": "slide"
    }
   },
   "source": [
    "# Complemento de un suceso\n",
    "\n",
    "El complementario de un suceso $A$ se escribe $A^{c}$ o $\\overline{A}$. Corresponde al suceso formado por todos los elementos del espacio total $\\Omega$ que no están en $A$.\n",
    "\n",
    "Se verifica que $A\\cap\\overline{A}=\\varnothing$ y $A\\cup\\overline{A}=\\Omega$\n",
    "\n",
    "<img src=\"IMG/complementar.jpg\" width=\"400\" style=\"margin-left: auto; margin-right: auto;\">\n"
   ]
  },
  {
   "cell_type": "markdown",
   "metadata": {
    "slideshow": {
     "slide_type": "slide"
    }
   },
   "source": [
    "# Probabilidad\n",
    "\n",
    "Si consideramos un experimento aleatorio que da lugar a un espacio muestral $\\Omega$, la probabilidad es una función que asigna a los sucesos $A\\subset\\Omega$ un número entre 0 y 1, verificando además que:\n",
    "\n",
    "$P(\\Omega)=1$ (la probabilidad del suceso seguro o total es 1) \n",
    "\n",
    "$P(\\varnothing)=0$ (la probabilidad del suceso imposible es cero) \n",
    "\n",
    "Si A y B son dos sucesos incompatibles $A\\cap B=∅$, entonces:\n",
    "\n",
    "$P(A\\cup B)=P(A)+P(B)$\n",
    "\n",
    "Estas tres propiedades se llaman __Axiomas de Kolmogorov__."
   ]
  },
  {
   "cell_type": "markdown",
   "metadata": {
    "slideshow": {
     "slide_type": "slide"
    }
   },
   "source": [
    "# Asignación de Probabilidad\n",
    "\n",
    "## Asignación equiprobable\n",
    "\n",
    "Cuando un experimento aleatorio da lugar a un espacio muestral con finitos elementos equiprobables, entonces se aplica la famosa Regla de Laplace:\n",
    "\n",
    "> Casos favorables entre casos posibles: Asignación de lados del dado.\n",
    "\n",
    "# Asignación frecuentista\n",
    "\n",
    "Cuando se repite muchas veces un mismo suceso, las frecuencias relativas de sus posibles resultados tienden a estabilizarse en torno a unos valores (números) concretos.\n",
    "\n",
    "Esto se conoce como **ley de estabilidad de las frecuencias** (Jacob Bernoulli, 1713, uno de los resultados conocidos como leyes de los grandes números)."
   ]
  },
  {
   "cell_type": "markdown",
   "metadata": {
    "slideshow": {
     "slide_type": "slide"
    }
   },
   "source": [
    "# Propiedades de la probabilidad\n",
    "\n",
    "A partir de las tres primeras propiedades de la probabilidad (axiomas de Kolmogorov), pueden deducirse fácilmente las siguientes:\n",
    "\n",
    "- La probabilidad del suceso complementario vale 1 menos la del suceso: $P( \\overline A)=1−P(A)$\n",
    "\n",
    "- Si $A$ y $B$ son sucesos cualesquiera $P(A \\cup B)=P(A)+P(B)−P(A \\cap B)$\n",
    "> Si la probabilidad de que llueva el sábado es 0.6, y la de que llueva el domingo es 0.7, ¿cuál es la probabilidad de que llueva el fin de semana? \n",
    "\n",
    "- La probabilidad de la diferencia es: $P(A−B)=P(A)−P(A \\cap B)$"
   ]
  },
  {
   "cell_type": "markdown",
   "metadata": {
    "slideshow": {
     "slide_type": "slide"
    }
   },
   "source": [
    "# Moneda\n",
    "\n",
    "Consideremos el experimento en que lanzamos una **Moneda**. \n",
    "\n",
    "¿Qué probabilidad tenemos de obtener una cara al lanzar una moneda?\n",
    "\n",
    "$ P( Cara ) = P( Cruz ) = \\frac {1} {2}$\n",
    "\n",
    "Un resultado es favorable y dos resultados son posibles cuando lanzamos la moneda.\n",
    "\n",
    "En R se implementa la función `sample()` para tomar un conjunto de sucesos en el $\\Omega$\n",
    "\n",
    "__NOTA:__ La moneda está bien construida y no esperamos que un resultado ocurra con más frecuencia que otro."
   ]
  },
  {
   "cell_type": "code",
   "execution_count": null,
   "metadata": {
    "slideshow": {
     "slide_type": "skip"
    }
   },
   "outputs": [],
   "source": [
    "# Creamos un espacio muestral\n",
    "Omega = c(\"cara\",\"cruz\")\n",
    "# Tomamos uno al azar de nuestro espacio muestral 3 veces\n",
    "sample(Omega,1)\n",
    "sample(Omega,1)\n",
    "sample(Omega,1)"
   ]
  },
  {
   "cell_type": "markdown",
   "metadata": {
    "slideshow": {
     "slide_type": "slide"
    }
   },
   "source": [
    "De continuar iríamos obteniendo una serie de resultados cara o cruz. \n",
    "\n",
    "Lancemos 30 veces la moneda y veamos qué pasa.\n",
    "\n",
    "```r\n",
    "sample(Omega,30,replace=TRUE)\n",
    "```\n",
    "\n",
    "¿Comó podemos contar cuántas veces nos ha salido cara y cruz?"
   ]
  },
  {
   "cell_type": "code",
   "execution_count": null,
   "metadata": {
    "slideshow": {
     "slide_type": "skip"
    }
   },
   "outputs": [],
   "source": [
    "x = sample(Omega,30,replace=TRUE)\n",
    "table(x)"
   ]
  },
  {
   "cell_type": "markdown",
   "metadata": {
    "slideshow": {
     "slide_type": "slide"
    }
   },
   "source": [
    "Si dividimos por el total de lanzamientos tenemos la frecuencia relativa de veces que nos ha salido cada uno de los dos posibles resultados. En nuestro caso \n",
    "\n",
    "### ¿Cuáles son frecuencias relativas observadas?"
   ]
  },
  {
   "cell_type": "code",
   "execution_count": null,
   "metadata": {
    "slideshow": {
     "slide_type": "skip"
    }
   },
   "outputs": [],
   "source": [
    "table(x) / 30"
   ]
  },
  {
   "cell_type": "markdown",
   "metadata": {
    "slideshow": {
     "slide_type": "slide"
    }
   },
   "source": [
    "# Ejercicio.\n",
    "\n",
    "¿Lanza 100000 veces la moneda y calculamos las frecuencias relativas?\n",
    "\n",
    "¿Lanza un dado 100000 veces y  calculamos las frecuencias relativas?"
   ]
  },
  {
   "cell_type": "code",
   "execution_count": null,
   "metadata": {
    "slideshow": {
     "slide_type": "skip"
    }
   },
   "outputs": [],
   "source": [
    "x = sample(Omega,100000,replace=TRUE)\n",
    "table(x) / 100\n",
    "\n",
    "dado <- c(1,2,3,4,5,6)\n",
    "y = sample(Omega,100000,replace=TRUE)\n",
    "table(y) / 100"
   ]
  },
  {
   "cell_type": "markdown",
   "metadata": {
    "slideshow": {
     "slide_type": "slide"
    }
   },
   "source": [
    "# Probabilidad no equiprobable.\n",
    "\n",
    "En experimentos con resultados equiprobables hay que contar el número total de resultados y el número de casos que contiene el suceso aleatorio de interés, esto es, hemos de contar casos favorables y casos posibles.\n",
    "\n",
    "Para ellos es fundamental un breve repaso de **combinatoria**: **variaciones**, **permutaciones** y **combinaciones**."
   ]
  },
  {
   "cell_type": "markdown",
   "metadata": {
    "slideshow": {
     "slide_type": "slide"
    }
   },
   "source": [
    "# Variaciones sin repetición \n",
    "\n",
    "Supongamos que tenemos un conjunto de $n$ elementos (por ejemplo, el conjunto $\\{ 1, . . . , n \\}$ y pretendemos saber cuántas secuencias ordenadas de $k$ elementos (con $k < n$) podemos formar. Para entender el problema supongamos que\n",
    "$n = 3$ y $k = 2$. Entonces las posibles secuencias serían:\n",
    "\n",
    "`12 21 13 31 23 32`\n",
    "\n",
    "**¿Cómo contarlas sin enumerarlas todas ellas?**\n",
    "\n",
    "El razonamiento es sencillo. Para la primera posición tenemos $3$ posibilidades. Una vez elegido el número que ocupa la primera posición nos quedan $2$ posibilidades para el segundo. En total $3 × 2$.\n",
    "\n",
    "Dada la elección nos quedan $n − 1$ elecciones para el segundo. Dadas las dos primeras elecciones nos quedan $n − 2$\n",
    "elecciones para el tercero. Para la última posición nos quedarán $n − k + 1$ posibles elecciones.\n",
    "\n",
    "$ n \\times (n−1) \\times ... \\times (n−k+1)$"
   ]
  },
  {
   "cell_type": "markdown",
   "metadata": {
    "slideshow": {
     "slide_type": "slide"
    }
   },
   "source": [
    "# Permutaciones \n",
    "\n",
    "Las permutaciones nos pueden ayudar a ordenar $n$ elementos distintos, sigue el razonamiento de las variaciónes sin repetición. \n",
    "\n",
    "Podemos ver que tenemos variaciones sin repetición donde n = k. \n",
    "\n",
    "$n ! = n \\times ( n − 1 ) \\times . . . \\times 1$\n",
    "\n",
    "R implementa la función `factorial()`\n",
    "\n",
    "Por tanto el número total de permutaciones es:\n",
    "\n",
    "${n} \\choose {r}$ $=$ $\\frac {n!} {(n-r)!}$"
   ]
  },
  {
   "cell_type": "code",
   "execution_count": null,
   "metadata": {
    "slideshow": {
     "slide_type": "skip"
    }
   },
   "outputs": [],
   "source": [
    "factorial(10)"
   ]
  },
  {
   "cell_type": "markdown",
   "metadata": {
    "slideshow": {
     "slide_type": "slide"
    }
   },
   "source": [
    "# Combinaciones\n",
    "\n",
    "Las combinaciones nos ayudan a crear conjuntos distintos de $k$ elementos podemos formar con un total de $n$? Estamos en una situación similar a las variaciones sin repetición salvo que no queremos que intervenga el orden. Por ejemplo, las secuencias:\n",
    "\n",
    "$12\\ 21$ son distintas como secuencias. Sin embargo, los conjuntos $\\{1,2\\} \\{2,1\\}$ son el mismo.\n",
    "\n",
    "En resumen, el número de conjuntos distintos de `k` elementos que podemos formar con `n` elementos distintos es:\n",
    "\n",
    "$ {n} \\choose {k}$ $=$ $ \\frac { n \\times (n−1) \\times ... \\times (n−k+1)} {k!}$ $=$ $ \\frac {n!} {k!(n - k)!}$\n",
    "\n",
    "$ {n} \\choose {k}$ recibe el nombre de combinaciones de n elementos tomados de k en k.\n",
    "\n",
    "R implenenta la función `choose()`"
   ]
  },
  {
   "cell_type": "code",
   "execution_count": null,
   "metadata": {
    "slideshow": {
     "slide_type": "skip"
    }
   },
   "outputs": [],
   "source": [
    "# Las combinaciones de n elementos tomados de k en k para n = 10 y k = 5 las obtenemos con\n",
    "choose(10,5) \n",
    "# Obviamente estamos eligiendo 5 elementos de un total de 10."
   ]
  },
  {
   "cell_type": "markdown",
   "metadata": {
    "slideshow": {
     "slide_type": "slide"
    }
   },
   "source": [
    "## Ejercicios\n",
    "1. ¿Cuántas diferentes quintas  de baloncesto pueden formarse con 7 jugadores disponibles  para jugar cualquier posición?\n",
    "\n",
    "2. En una empresa,  5 ejecutivos asisten a una junta donde hay 9 sillas. Calcula de cuantas formas pueden ser ocupadas las sillas.\n",
    "\n",
    "3. Determina cuantas combinaciones de 5 con las siguientes monedas 1,2,3,4 y 5 sin repetir ninguna moneda. \n",
    "\n",
    "4. En una clase de 35 alumnos se quiere elegir a un comité formado por tres alumnos. ¿Cuántos comités diferentes se pueden formar?\n",
    "\n",
    "5. En una maquiladora se presentan a solicitar trabajo 9 hombres y 5 mujeres.  ¿De cuantas formas el jefe de personal puede hacer la selección si únicamente puede controlar  a 6 hombres y 3 mujeres?\n",
    "\n",
    "6. Un alumno de enseñanza media superior tiene 7 libros de física y 5 de matemáticas. Calcula de cuantas maneras se puede ordenar 3 libros de física 2 de matemáticas en un librero.\n"
   ]
  },
  {
   "cell_type": "markdown",
   "metadata": {
    "slideshow": {
     "slide_type": "skip"
    }
   },
   "source": [
    "## Ejercicios\n",
    "1. ¿Cuántas diferentes quintas  de baloncesto pueden formarse con 7 jugadores disponibles  para jugar cualquier posición?\n",
    "\n",
    "$n! / (n-r)! = 7! / (7- 5)! =2$\n",
    "\n",
    "`factorial(7) / factorial(2)`\n",
    "\n",
    "Se pueden formar 2520 quintas diferentes.\n",
    "\n",
    "2. En una empresa,  5 ejecutivos asisten a una junta donde hay 9 sillas. Calcula de cuantas formas pueden ser ocupadas las sillas.\n",
    "\n",
    "$n! / (n-r)! = 9! / (9 - 5)! =4$\n",
    "\n",
    "Se pueden formar 15120 \n",
    "\n",
    "3. Determina cuantas combinaciones de 5 con las siguientes monedas 1,2,3,4 y 5 sin repetir ninguna moneda. \n",
    "\n",
    "$5P5=5!=5 (4)(3)(2)(1) = 120$\n",
    "\n",
    "Pueden formarse 120 combinaciones.\n",
    "\n",
    "4. En una clase de 35 alumnos se quiere elegir a un comité formado por tres alumnos. ¿Cuántos comités diferentes se pueden formar?\n",
    "\n",
    " ₃₅C₃= 35(34)(33)= 6545\n",
    "        3(2)(1)\n",
    "`choose(35,3)`\n",
    "\n",
    "5. En una maquiladora se presentan a solicitar trabajo 9 hombres y 5 mujeres.  ¿De cuantas formas el jefe de personal puede hacer la selección si únicamente puede controlar  a 6 hombres y 3 mujeres?\n",
    "\n",
    "`choose(9,6)*choose(5,3)`\n",
    "\n",
    "6. Un alumno de enseñanza media superior tiene 7 libros de física y 5 de matemáticas. Calcula de cuantas maneras se puede ordenar 3 libros de física 2 de matemáticas en un librero.\n",
    "\n",
    "₇C₃, ₅C₂, ₇C₃·₅C₂, \n",
    "\n",
    "`choose(7,3)*choose(5,2) * factorial(5)`"
   ]
  },
  {
   "cell_type": "markdown",
   "metadata": {
    "slideshow": {
     "slide_type": "slide"
    }
   },
   "source": [
    "<p style=\"text-align: center\"><a rel=\"license\" href=\"http://creativecommons.org/licenses/by/4.0/\"><img alt=\"Licencia Creative Commons\" style=\"border-width:0\" src=\"https://i.creativecommons.org/l/by/4.0/80x15.png\" /></a><br />Esta obra está bajo una <a rel=\"license\" href=\"http://creativecommons.org/licenses/by/4.0/\">Licencia Creative Commons Atribución 4.0 Internacional</a>.</p>\n",
    "<p style=\"text-align: center\">&copy; Biol. Luis Eloy Homobono Fuentes. 2019.</p>"
   ]
  }
 ],
 "metadata": {
  "celltoolbar": "Slideshow",
  "kernelspec": {
   "display_name": "R",
   "language": "R",
   "name": "ir"
  },
  "language_info": {
   "codemirror_mode": "r",
   "file_extension": ".r",
   "mimetype": "text/x-r-source",
   "name": "R",
   "pygments_lexer": "r",
   "version": "3.4.4"
  }
 },
 "nbformat": 4,
 "nbformat_minor": 2
}
